{
 "cells": [
  {
   "cell_type": "markdown",
   "metadata": {},
   "source": [
    "# Weeks 5 & 6 Exercises\n",
    "### Angie Oehler\n",
    "### 04/16/2021\n",
    "## Exercise 2: Activity 8\n",
    "In this activity we do the following\n",
    "\n",
    "- Create a data frame from a given CSV\n",
    "- Check for duplicates in the columns that matter\n",
    "- Check for NaN in the columns that matter\n",
    "- Apply our domain knowledge to single out and remove outliers\n",
    "- Generate nice print statements as reports for differents steps\n",
    "The data set is a 1000 row data set which represnets the traffic on a certain page of a website. The Names, email, and IP are faked out in order to keep the privacy"
   ]
  },
  {
   "cell_type": "markdown",
   "metadata": {},
   "source": [
    "### Load the data (the file name is - visit_data.csv)"
   ]
  },
  {
   "cell_type": "code",
   "execution_count": 139,
   "metadata": {},
   "outputs": [],
   "source": [
    "# import libraries\n",
    "import pandas as pd\n",
    "import numpy as np\n",
    "%matplotlib inline\n",
    "from math import cos, pi"
   ]
  },
  {
   "cell_type": "code",
   "execution_count": 140,
   "metadata": {},
   "outputs": [
    {
     "data": {
      "text/html": [
       "<div>\n",
       "<style scoped>\n",
       "    .dataframe tbody tr th:only-of-type {\n",
       "        vertical-align: middle;\n",
       "    }\n",
       "\n",
       "    .dataframe tbody tr th {\n",
       "        vertical-align: top;\n",
       "    }\n",
       "\n",
       "    .dataframe thead th {\n",
       "        text-align: right;\n",
       "    }\n",
       "</style>\n",
       "<table border=\"1\" class=\"dataframe\">\n",
       "  <thead>\n",
       "    <tr style=\"text-align: right;\">\n",
       "      <th></th>\n",
       "      <th>id</th>\n",
       "      <th>first_name</th>\n",
       "      <th>last_name</th>\n",
       "      <th>email</th>\n",
       "      <th>gender</th>\n",
       "      <th>ip_address</th>\n",
       "      <th>visit</th>\n",
       "    </tr>\n",
       "  </thead>\n",
       "  <tbody>\n",
       "    <tr>\n",
       "      <th>0</th>\n",
       "      <td>1</td>\n",
       "      <td>Sonny</td>\n",
       "      <td>Dahl</td>\n",
       "      <td>sdahl0@mysql.com</td>\n",
       "      <td>Male</td>\n",
       "      <td>135.36.96.183</td>\n",
       "      <td>1225.0</td>\n",
       "    </tr>\n",
       "    <tr>\n",
       "      <th>1</th>\n",
       "      <td>2</td>\n",
       "      <td>NaN</td>\n",
       "      <td>NaN</td>\n",
       "      <td>dhoovart1@hud.gov</td>\n",
       "      <td>NaN</td>\n",
       "      <td>237.165.194.143</td>\n",
       "      <td>919.0</td>\n",
       "    </tr>\n",
       "    <tr>\n",
       "      <th>2</th>\n",
       "      <td>3</td>\n",
       "      <td>Gar</td>\n",
       "      <td>Armal</td>\n",
       "      <td>garmal2@technorati.com</td>\n",
       "      <td>NaN</td>\n",
       "      <td>166.43.137.224</td>\n",
       "      <td>271.0</td>\n",
       "    </tr>\n",
       "    <tr>\n",
       "      <th>3</th>\n",
       "      <td>4</td>\n",
       "      <td>Chiarra</td>\n",
       "      <td>Nulty</td>\n",
       "      <td>cnulty3@newyorker.com</td>\n",
       "      <td>NaN</td>\n",
       "      <td>139.98.137.108</td>\n",
       "      <td>1002.0</td>\n",
       "    </tr>\n",
       "    <tr>\n",
       "      <th>4</th>\n",
       "      <td>5</td>\n",
       "      <td>NaN</td>\n",
       "      <td>NaN</td>\n",
       "      <td>sleaver4@elegantthemes.com</td>\n",
       "      <td>NaN</td>\n",
       "      <td>46.117.117.27</td>\n",
       "      <td>2434.0</td>\n",
       "    </tr>\n",
       "  </tbody>\n",
       "</table>\n",
       "</div>"
      ],
      "text/plain": [
       "   id first_name last_name                       email gender  \\\n",
       "0   1      Sonny      Dahl            sdahl0@mysql.com   Male   \n",
       "1   2        NaN       NaN           dhoovart1@hud.gov    NaN   \n",
       "2   3        Gar     Armal      garmal2@technorati.com    NaN   \n",
       "3   4    Chiarra     Nulty       cnulty3@newyorker.com    NaN   \n",
       "4   5        NaN       NaN  sleaver4@elegantthemes.com    NaN   \n",
       "\n",
       "        ip_address   visit  \n",
       "0    135.36.96.183  1225.0  \n",
       "1  237.165.194.143   919.0  \n",
       "2   166.43.137.224   271.0  \n",
       "3   139.98.137.108  1002.0  \n",
       "4    46.117.117.27  2434.0  "
      ]
     },
     "execution_count": 140,
     "metadata": {},
     "output_type": "execute_result"
    }
   ],
   "source": [
    "# Load the file and print the header\n",
    "df = pd.read_csv(\"visit_data.csv\")\n",
    "df.head()\n",
    "\n",
    "# We can aready see that there are some missing values in this dataset (not sure about dupes yet)"
   ]
  },
  {
   "cell_type": "markdown",
   "metadata": {},
   "source": [
    "### Task - 1 (Are there duplicates?)"
   ]
  },
  {
   "cell_type": "code",
   "execution_count": 141,
   "metadata": {},
   "outputs": [
    {
     "name": "stdout",
     "output_type": "stream",
     "text": [
      "There are duplicates in first_name: True\n",
      "There are duplicates in last_name: True\n",
      "There are duplicates in email: False\n",
      "There are duplicates in ip_address: False\n",
      "There are duplicates in visit: True\n"
     ]
    }
   ],
   "source": [
    "# Check for dupes and print results for each field\n",
    "# Assume there are dupes in gender, so that field wasn't checked\n",
    "print('There are duplicates in first_name: {}'.format(any(df.first_name.duplicated())))\n",
    "print('There are duplicates in last_name: {}'.format(any(df.last_name.duplicated())))\n",
    "print('There are duplicates in email: {}'.format(any(df.email.duplicated())))\n",
    "print('There are duplicates in ip_address: {}'.format(any(df.ip_address.duplicated())))\n",
    "print('There are duplicates in visit: {}'.format(any(df.visit.duplicated())))"
   ]
  },
  {
   "cell_type": "markdown",
   "metadata": {},
   "source": [
    "### Task - 2 (do any essential column contain NaN?)"
   ]
  },
  {
   "cell_type": "code",
   "execution_count": 142,
   "metadata": {},
   "outputs": [
    {
     "name": "stdout",
     "output_type": "stream",
     "text": [
      "There are nulls in first_name: True\n",
      "There are nulls in last_name: True\n",
      "There are nulls in email: False\n",
      "There are nulls in gender: True\n",
      "There are nulls in ip_address: False\n",
      "There are nulls in visit: True\n"
     ]
    }
   ],
   "source": [
    "# Check for missing values and print results for each field\n",
    "\n",
    "print('There are nulls in first_name: %r' % df.first_name.isnull().values.any())\n",
    "print('There are nulls in last_name: %r' % df.last_name.isnull().values.any())\n",
    "print('There are nulls in email: %r' % df.email.isnull().values.any())\n",
    "print('There are nulls in gender: %r' % df.gender.isnull().values.any())\n",
    "print('There are nulls in ip_address: %r' % df.ip_address.isnull().values.any())\n",
    "print('There are nulls in visit: %r' % df.visit.isnull().values.any())"
   ]
  },
  {
   "cell_type": "markdown",
   "metadata": {},
   "source": [
    "### Task - 3 (Get rid of the outliers)"
   ]
  },
  {
   "cell_type": "code",
   "execution_count": 143,
   "metadata": {},
   "outputs": [
    {
     "data": {
      "text/plain": [
       "1000"
      ]
     },
     "execution_count": 143,
     "metadata": {},
     "output_type": "execute_result"
    }
   ],
   "source": [
    "# Preserve original size of data before we remove the outliers (needed later)\n",
    "original = df.shape\n",
    "original[0]"
   ]
  },
  {
   "cell_type": "code",
   "execution_count": 144,
   "metadata": {},
   "outputs": [
    {
     "data": {
      "text/plain": [
       "974"
      ]
     },
     "execution_count": 144,
     "metadata": {},
     "output_type": "execute_result"
    }
   ],
   "source": [
    "# Maintain only the finite values in the visit field\n",
    "df_finite = df[np.isfinite(df['visit'])]\n",
    "new = df_finite.shape\n",
    "new[0]"
   ]
  },
  {
   "cell_type": "markdown",
   "metadata": {},
   "source": [
    "### Task - 4 (Report the size difference)"
   ]
  },
  {
   "cell_type": "code",
   "execution_count": 145,
   "metadata": {},
   "outputs": [
    {
     "name": "stdout",
     "output_type": "stream",
     "text": [
      "The size difference between the original and new data sets is: 26 rows\n"
     ]
    }
   ],
   "source": [
    "# Show the size difference between the new and original data sets\n",
    "print('The size difference between the original and new data sets is: {} rows'.\n",
    "      format(original[0] - new[0]))"
   ]
  },
  {
   "cell_type": "markdown",
   "metadata": {},
   "source": [
    "### Task - 5 (Box plot visit to further check any Outliers)"
   ]
  },
  {
   "cell_type": "code",
   "execution_count": 146,
   "metadata": {},
   "outputs": [
    {
     "data": {
      "text/plain": [
       "{'whiskers': [<matplotlib.lines.Line2D at 0x2a7e21178d0>,\n",
       "  <matplotlib.lines.Line2D at 0x2a7e2117c18>],\n",
       " 'caps': [<matplotlib.lines.Line2D at 0x2a7e2117f60>,\n",
       "  <matplotlib.lines.Line2D at 0x2a7e21192e8>],\n",
       " 'boxes': [<matplotlib.lines.Line2D at 0x2a7e21174a8>],\n",
       " 'medians': [<matplotlib.lines.Line2D at 0x2a7e2119630>],\n",
       " 'fliers': [<matplotlib.lines.Line2D at 0x2a7e2119978>],\n",
       " 'means': []}"
      ]
     },
     "execution_count": 146,
     "metadata": {},
     "output_type": "execute_result"
    },
    {
     "data": {
      "image/png": "[encoded data removed]",
      "text/plain": [
       "<Figure size 432x288 with 1 Axes>"
      ]
     },
     "metadata": {
      "needs_background": "light"
     },
     "output_type": "display_data"
    }
   ],
   "source": [
    "# Plot the new data set with a boxplot\n",
    "plt.boxplot(df_finite.visit)"
   ]
  },
  {
   "cell_type": "code",
   "execution_count": 147,
   "metadata": {},
   "outputs": [
    {
     "data": {
      "text/plain": [
       "880"
      ]
     },
     "execution_count": 147,
     "metadata": {},
     "output_type": "execute_result"
    }
   ],
   "source": [
    "# It looks like most of the data points fall between 800 and 2300\n",
    "# I think we're safe to remove anything below 200 and above 2850 \n",
    "    # Debated bwtween 2800 and 2900, so plit the diff and landed on 2850\n",
    "df_final = df_finite[(df_finite['visit'] <= 2850) & (df_finite['visit'] >= 200)]  \n",
    "new_a = df_final.shape[0]\n",
    "new_a"
   ]
  },
  {
   "cell_type": "code",
   "execution_count": 148,
   "metadata": {},
   "outputs": [
    {
     "data": {
      "text/plain": [
       "{'whiskers': [<matplotlib.lines.Line2D at 0x2a7e1c7ca58>,\n",
       "  <matplotlib.lines.Line2D at 0x2a7e1c7cda0>],\n",
       " 'caps': [<matplotlib.lines.Line2D at 0x2a7e1c7ce80>,\n",
       "  <matplotlib.lines.Line2D at 0x2a7e1c71470>],\n",
       " 'boxes': [<matplotlib.lines.Line2D at 0x2a7e1c7c668>],\n",
       " 'medians': [<matplotlib.lines.Line2D at 0x2a7e1c717b8>],\n",
       " 'fliers': [<matplotlib.lines.Line2D at 0x2a7e1c71b00>],\n",
       " 'means': []}"
      ]
     },
     "execution_count": 148,
     "metadata": {},
     "output_type": "execute_result"
    },
    {
     "data": {
      "image/png": "[encoded data removed]",
      "text/plain": [
       "<Figure size 432x288 with 1 Axes>"
      ]
     },
     "metadata": {
      "needs_background": "light"
     },
     "output_type": "display_data"
    }
   ],
   "source": [
    "# new boxplot\n",
    "plt.boxplot(df_final.visit)"
   ]
  },
  {
   "cell_type": "code",
   "execution_count": 149,
   "metadata": {},
   "outputs": [
    {
     "name": "stdout",
     "output_type": "stream",
     "text": [
      "The final size of our data set is: 880\n"
     ]
    }
   ],
   "source": [
    "#Get the final data set size\n",
    "print('The final size of our data set is: {}'.format(new_a))"
   ]
  },
  {
   "cell_type": "code",
   "execution_count": null,
   "metadata": {},
   "outputs": [],
   "source": []
  },
  {
   "cell_type": "markdown",
   "metadata": {},
   "source": [
    "## Exercise 3: SQLlite\n",
    "Insert data into a SQL Lite database \n",
    "- Create a table with the following data (Hint: Python for Data Analysis page 191):\n",
    "    - Name, Address, City, State, Zip, Phone Number\n",
    "    - Add at least 10 rows of data and submit your code with a query generating your results."
   ]
  },
  {
   "cell_type": "code",
   "execution_count": 150,
   "metadata": {},
   "outputs": [],
   "source": [
    "# import SQLlite\n",
    "import sqlite3"
   ]
  },
  {
   "cell_type": "code",
   "execution_count": 194,
   "metadata": {},
   "outputs": [],
   "source": [
    "# Create table \n",
    "# Include an exists statement so that we don't get an error \n",
    "create_table = \"\"\"\n",
    "create table if not exists ClientName\n",
    "(Name varchar(50) not null,\n",
    "Address varchar(75) not null,\n",
    "City char(30) not null,\n",
    "State char(2) not null,\n",
    "Zip int not null,\n",
    "PhoneNum int not null\n",
    ");\"\"\""
   ]
  },
  {
   "cell_type": "code",
   "execution_count": 195,
   "metadata": {},
   "outputs": [],
   "source": [
    "# Run the create table statement and commit it\n",
    "con = sqlite3.connect('mydata.sqlite')\n",
    "con.execute(create_table)\n",
    "con.commit()"
   ]
  },
  {
   "cell_type": "code",
   "execution_count": 228,
   "metadata": {},
   "outputs": [
    {
     "data": {
      "text/plain": [
       "<sqlite3.Cursor at 0x2a7e1c60d50>"
      ]
     },
     "execution_count": 228,
     "metadata": {},
     "output_type": "execute_result"
    }
   ],
   "source": [
    "# Truncate table so that dupe entries aren't created when data is added again\n",
    "# ** this step is only needed if the data entry step is rpeated\n",
    "truncate_cursor = con.execute('delete from ClientName')\n",
    "truncate_data = truncate_cursor.fetchall()\n",
    "truncate_cursor"
   ]
  },
  {
   "cell_type": "code",
   "execution_count": 229,
   "metadata": {},
   "outputs": [],
   "source": [
    "# Create data to insert into ClientName table\n",
    "client_info = [('Dean Winchester', '123 The Bunker', 'Lebanon', 'KS', 12345, 1234567890),\n",
    "    ('Sam Winchester', '123 The Bunker', 'Lebanon', 'KS', 12345, 1234567891),\n",
    "    ('Bobby Singer', '456 Auto Scrap Yard', 'Sioux City', 'IA', 45678, 7894561231),\n",
    "    ('Jody Mills', '4589 Sheriff  office', 'Sioux City', 'IA', 456789, 9874563215),\n",
    "    ('Fox Mulder', 'FBI Basement', 'Washington', 'DC', 12125, 1239874566),\n",
    "    ('Dana Scully','FBI Basement', 'Washington', 'DC', 12125, 5239874566),\n",
    "    ('Buffy Summers', '789 Fake St', 'Sunnydale', 'CA', 90915, 7148965489),\n",
    "    ('William the Bloody, AKA Spike', 'The Crypt', 'Sunnydale', 'CA', 90954, 9654321987),\n",
    "    ('Willow Rosenberg', '59856 Nota St', 'Sunnydale', 'CA', 98689, 7156345698),\n",
    "    ('Rupert Giles', 'The Library', 'The Hellmouth', 'CA', 99011, 7445612345)]"
   ]
  },
  {
   "cell_type": "code",
   "execution_count": 230,
   "metadata": {},
   "outputs": [
    {
     "data": {
      "text/plain": [
       "<function Connection.commit>"
      ]
     },
     "execution_count": 230,
     "metadata": {},
     "output_type": "execute_result"
    }
   ],
   "source": [
    "# Commit the data insert\n",
    "insert_data = \"insert into ClientName values(?,?,?,?,?,?)\"\n",
    "con.executemany(insert_data, client_info)\n",
    "con.commit"
   ]
  },
  {
   "cell_type": "code",
   "execution_count": 231,
   "metadata": {},
   "outputs": [
    {
     "data": {
      "text/plain": [
       "[('Dean Winchester', '123 The Bunker', 'Lebanon', 'KS', 12345, 1234567890),\n",
       " ('Sam Winchester', '123 The Bunker', 'Lebanon', 'KS', 12345, 1234567891),\n",
       " ('Bobby Singer',\n",
       "  '456 Auto Scrap Yard',\n",
       "  'Sioux City',\n",
       "  'IA',\n",
       "  45678,\n",
       "  7894561231),\n",
       " ('Jody Mills',\n",
       "  '4589 Sheriff  office',\n",
       "  'Sioux City',\n",
       "  'IA',\n",
       "  456789,\n",
       "  9874563215),\n",
       " ('Fox Mulder', 'FBI Basement', 'Washington', 'DC', 12125, 1239874566),\n",
       " ('Dana Scully', 'FBI Basement', 'Washington', 'DC', 12125, 5239874566),\n",
       " ('Buffy Summers', '789 Fake St', 'Sunnydale', 'CA', 90915, 7148965489),\n",
       " ('William the Bloody, AKA Spike',\n",
       "  'The Crypt',\n",
       "  'Sunnydale',\n",
       "  'CA',\n",
       "  90954,\n",
       "  9654321987),\n",
       " ('Willow Rosenberg', '59856 Nota St', 'Sunnydale', 'CA', 98689, 7156345698),\n",
       " ('Rupert Giles', 'The Library', 'The Hellmouth', 'CA', 99011, 7445612345)]"
      ]
     },
     "execution_count": 231,
     "metadata": {},
     "output_type": "execute_result"
    }
   ],
   "source": [
    "# Select data from the ClientName table\n",
    "select_cursor = con.execute('select * from ClientName')\n",
    "select_data = select_cursor.fetchall()\n",
    "select_data"
   ]
  },
  {
   "cell_type": "code",
   "execution_count": null,
   "metadata": {},
   "outputs": [],
   "source": []
  },
  {
   "cell_type": "code",
   "execution_count": null,
   "metadata": {},
   "outputs": [],
   "source": []
  },
  {
   "cell_type": "code",
   "execution_count": null,
   "metadata": {},
   "outputs": [],
   "source": []
  },
  {
   "cell_type": "code",
   "execution_count": null,
   "metadata": {},
   "outputs": [],
   "source": []
  }
 ],
 "metadata": {
  "kernelspec": {
   "display_name": "Python 3",
   "language": "python",
   "name": "python3"
  },
  "language_info": {
   "codemirror_mode": {
    "name": "ipython",
    "version": 3
   },
   "file_extension": ".py",
   "mimetype": "text/x-python",
   "name": "python",
   "nbconvert_exporter": "python",
   "pygments_lexer": "ipython3",
   "version": "3.8.5"
  }
 },
 "nbformat": 4,
 "nbformat_minor": 2
}
