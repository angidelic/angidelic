{
 "cells": [
  {
   "cell_type": "markdown",
   "metadata": {},
   "source": [
    "# Weeks 9 & 10 Exeercises\n",
    "### Angie Oehler\n",
    "### 05/01/2021"
   ]
  },
  {
   "cell_type": "markdown",
   "metadata": {},
   "source": [
    "## Activity 9: Extracting the top 100 eBooks"
   ]
  },
  {
   "cell_type": "code",
   "execution_count": 2,
   "metadata": {},
   "outputs": [],
   "source": [
    "# Import the libraries\n",
    "import urllib.request, urllib.parse, urllib.error\n",
    "import requests\n",
    "from bs4 import BeautifulSoup\n",
    "import ssl\n",
    "import re"
   ]
  },
  {
   "cell_type": "code",
   "execution_count": 3,
   "metadata": {},
   "outputs": [],
   "source": [
    "# Check the SSL certificate\n",
    "ctx = ssl.create_default_context()\n",
    "ctx.check_hostname = False\n",
    "ctx.verify_mode = ssl.CERT_NONE"
   ]
  },
  {
   "cell_type": "code",
   "execution_count": 4,
   "metadata": {},
   "outputs": [],
   "source": [
    "# Read the HTML \n",
    "url = 'https://www.gutenberg.org/browse/scores/top'\n",
    "response = requests.get(url)"
   ]
  },
  {
   "cell_type": "code",
   "execution_count": 8,
   "metadata": {},
   "outputs": [
    {
     "name": "stdout",
     "output_type": "stream",
     "text": [
      "Success!\n"
     ]
    },
    {
     "data": {
      "text/plain": [
       "1"
      ]
     },
     "execution_count": 8,
     "metadata": {},
     "output_type": "execute_result"
    }
   ],
   "source": [
    "# Write a function to check the status\n",
    "def status_check(r):\n",
    "    if r.status_code == 200:\n",
    "        print(\"Success!\")\n",
    "        return 1\n",
    "    else:\n",
    "        print(\"Failed!\")\n",
    "        return -1\n",
    "\n",
    "# Check the status\n",
    "status_check(response)"
   ]
  },
  {
   "cell_type": "code",
   "execution_count": 9,
   "metadata": {},
   "outputs": [],
   "source": [
    "# Decode the response and pass to beautifulsoup\n",
    "contents = response.content.decode(response.encoding)\n",
    "soup = BeautifulSoup(contents, 'html.parser')"
   ]
  },
  {
   "cell_type": "code",
   "execution_count": 13,
   "metadata": {},
   "outputs": [
    {
     "data": {
      "text/plain": [
       "['/',\n",
       " '/about/',\n",
       " '/about/',\n",
       " '/policy/collection_development.html',\n",
       " '/about/contact_information.html',\n",
       " '/about/background/',\n",
       " '/policy/permission.html',\n",
       " '/policy/privacy_policy.html',\n",
       " '/policy/terms_of_use.html',\n",
       " '/ebooks/',\n",
       " '/ebooks/',\n",
       " '/ebooks/bookshelf/',\n",
       " '/browse/scores/top',\n",
       " '/ebooks/offline_catalogs.html',\n",
       " '/help/',\n",
       " '/help/',\n",
       " '/help/copyright.html',\n",
       " '/help/errata.html',\n",
       " '/help/file_formats.html',\n",
       " '/help/faq.html',\n",
       " '/policy/',\n",
       " '/help/public_domain_ebook_submission.html',\n",
       " '/help/submitting_your_own_work.html',\n",
       " '/help/mobile.html',\n",
       " '/attic/',\n",
       " '/donate/',\n",
       " '/donate/',\n",
       " '#books-last1',\n",
       " '#authors-last1',\n",
       " '#books-last7']"
      ]
     },
     "execution_count": 13,
     "metadata": {},
     "output_type": "execute_result"
    }
   ],
   "source": [
    "# Find the href tags, store the list, and check the list\n",
    "# Create the empty list\n",
    "href_list = []\n",
    "\n",
    "# Find the tags and create the list\n",
    "for link in soup.find_all('a'):\n",
    "    #print(link.get('href'))\n",
    "    href_list.append(link.get('href'))\n",
    "\n",
    "# Print the list\n",
    "href_list[:30]"
   ]
  },
  {
   "cell_type": "code",
   "execution_count": 39,
   "metadata": {},
   "outputs": [
    {
     "name": "stdout",
     "output_type": "stream",
     "text": [
      "[1, 1, 7, 7, 30, 30, 84, 1342, 64317, 844, 11, 98, 174, 2542, 1250, 2701, 1661, 1080, 5200, 46, 1952, 1260, 43, 25344, 76, 2852, 65322, 345, 219, 2591, 43453, 55, 74, 65320, 1400, 205, 57775, 65321, 16, 1232, 768, 65318, 65316, 2600, 215, 120, 23, 45, 160, 65324, 26184, 6130, 4300, 2814, 1727, 3825, 14568, 514, 158, 996, 40068, 244, 408, 17635, 58585, 5740, 1497, 65314, 1184, 35899, 2500, 203, 65315, 113, 65319, 135, 100, 236, 36, 65323, 2554, 902, 27827, 730, 829, 16328, 3600, 1837, 5739, 105, 35, 766]\n"
     ]
    }
   ],
   "source": [
    "# Use regular expression to find the numeric digits for the top books\n",
    "# Empty list\n",
    "book_nums = []\n",
    "\n",
    "# Loop over the given range and use regex\n",
    "for i in range(19,119):\n",
    "    link=href_list[i]\n",
    "    link=link.strip()\n",
    "    n=re.findall('[0-9]+',link)\n",
    "    if len(n)==1:\n",
    "        book_nums.append(int(n[0]))\n",
    "\n",
    "# Print the numbers\n",
    "print(book_nums)"
   ]
  },
  {
   "cell_type": "code",
   "execution_count": 40,
   "metadata": {},
   "outputs": [
    {
     "name": "stdout",
     "output_type": "stream",
     "text": [
      "\n",
      "\n",
      "\n",
      "\n",
      "Top 100 | Project Gutenberg\n",
      "\n",
      "\n",
      "\n",
      "\n",
      "\n",
      "\n",
      "\n",
      "\n",
      "\n",
      "\n",
      "\n",
      "\n",
      "\n",
      "\n",
      "\n",
      "\n",
      "\n",
      "\n",
      "\n",
      "\n",
      "\n",
      "\n",
      "\n",
      "\n",
      "\n",
      "\n",
      "\n",
      "Menu▾\n",
      "\n",
      "\n",
      "\n",
      "About\n",
      "          ▾\n",
      "\n",
      "▾\n",
      "\n",
      "\n",
      "About Project Gutenberg\n",
      "Collection Development\n",
      "Contact Us\n",
      "History & Philosophy\n",
      "Permissions & License\n",
      "Privacy Policy\n",
      "Terms of Use\n",
      "\n",
      "\n",
      "\n",
      "Search and Browse\n",
      "      \t  ▾\n",
      "\n",
      "▾\n",
      "\n",
      "\n",
      "Book Search\n",
      "Bookshelves\n",
      "Frequently Downloaded\n",
      "Offline Catalogs\n",
      "\n",
      "\n",
      "\n",
      "Help\n",
      "          ▾\n",
      "\n",
      "▾\n",
      "\n",
      "\n",
      "All help topics →\n",
      "Copyright Procedures\n",
      "Errata, Fixes and Bug Reports\n",
      "File Formats\n",
      "Frequently Asked Questions\n",
      "Policies →\n",
      "Public Domain eBook Submission\n",
      "Submitting Your Own Work\n",
      "Tablets, Phones and eReaders\n",
      "The Attic →\n",
      "\n",
      "\n",
      "Donate\n",
      "\n",
      "\n",
      "\n",
      "\n",
      "\n",
      "\n",
      "\n",
      "\n",
      "\n",
      "\n",
      "Donation\n",
      "\n",
      "\n",
      "\n",
      "\n",
      "\n",
      "\n",
      "\n",
      "Frequently Viewed or Downloaded\n",
      "These listings are based on the number of times each eBook gets downloaded.\n",
      "      Multiple downloads from the same Internet address on the same day count as one download, and addresses that download more than 100 eBooks in a day are considered robots and are not counted.\n",
      "\n",
      "Downloaded Books\n",
      "2021-05-12163999\n",
      "last 7 days1131085\n",
      "last 30 days4971849\n",
      "\n",
      "\n",
      "\n",
      "Top 100 EBooks yesterday\n",
      "Top 100 Authors yesterday\n",
      "Top 100 EBooks last 7 days\n",
      "Top 100 Authors last 7 days\n",
      "Top 100 EBooks last 30 days\n",
      "Top 100 Authors last 30 days\n",
      "\n",
      "\n",
      "Top 100 EBooks yesterday\n",
      "\n",
      "Frankenstein; Or, The Modern Prometheus by Mary Wollstonecraft Shelley (2753)\n",
      "Pride and Prejudice by Jane Austen (1887)\n",
      "The Great Gatsby by F. Scott  Fitzgerald (1210)\n",
      "The Importance of Being Earnest: A Trivial Comedy for Serious People by Oscar Wilde (1004)\n",
      "Alice's Adventures in Wonderland by Lewis Carroll (920)\n",
      "A Tale of Two Cities by Charles Dickens (914)\n",
      "The Picture of Dorian Gray by Oscar Wilde (746)\n",
      "Et dukkehjem. English by Henrik Ibsen (740)\n",
      "Anthem by Ayn Rand (667)\n",
      "Moby Dick; Or, The Whale by Herman Melville (636)\n",
      "The Adventures of Sherlock Holmes by Arthur Conan Doyle (628)\n",
      "A Modest Proposal by Jonathan Swift (607)\n",
      "Metamorphosis by Franz Kafka (607)\n",
      "A Christmas Carol in Prose; Being a Ghost Story of Christmas by Charles Dickens (590)\n",
      "The Yellow Wallpaper by Charlotte Perkins Gilman (559)\n",
      "Jane Eyre: An Autobiogr\n"
     ]
    }
   ],
   "source": [
    "# Use .text to print the first 2000 characters of text\n",
    "print(soup.text[:2000])"
   ]
  },
  {
   "cell_type": "code",
   "execution_count": 41,
   "metadata": {},
   "outputs": [],
   "source": [
    "# Find the names of the top books in the extracted text\n",
    "# Empty temp list\n",
    "temp_list = []"
   ]
  },
  {
   "cell_type": "code",
   "execution_count": 42,
   "metadata": {},
   "outputs": [],
   "source": [
    "# Use splitlines to find the starting index\n",
    "start_index = soup.text.splitlines().index('Top 100 EBooks yesterday')"
   ]
  },
  {
   "cell_type": "code",
   "execution_count": 43,
   "metadata": {},
   "outputs": [],
   "source": [
    "# Use splitlines and loop through to add lines to the temp list\n",
    "for i in range(100):\n",
    "    temp_list.append(soup.text.splitlines()[start_index + 2 + i])"
   ]
  },
  {
   "cell_type": "code",
   "execution_count": 44,
   "metadata": {},
   "outputs": [],
   "source": [
    "# Use splitlines again to guild the list from the temp list\n",
    "ebook_titles = []\n",
    "for i in range(100):\n",
    "    id1,id2 = re.match('^[a-zA-Z ]*', temp_list[i]).span()\n",
    "    ebook_titles.append(temp_list[i][id1:id2])"
   ]
  },
  {
   "cell_type": "code",
   "execution_count": 45,
   "metadata": {},
   "outputs": [
    {
     "name": "stdout",
     "output_type": "stream",
     "text": [
      "Top \n",
      "Top \n",
      "Top \n",
      "Top \n",
      "\n",
      "\n",
      "Top \n",
      "\n",
      "Frankenstein\n",
      "Pride and Prejudice by Jane Austen \n",
      "The Great Gatsby by F\n",
      "The Importance of Being Earnest\n",
      "Alice\n",
      "A Tale of Two Cities by Charles Dickens \n",
      "The Picture of Dorian Gray by Oscar Wilde \n",
      "Et dukkehjem\n",
      "Anthem by Ayn Rand \n",
      "Moby Dick\n",
      "The Adventures of Sherlock Holmes by Arthur Conan Doyle \n",
      "A Modest Proposal by Jonathan Swift \n",
      "Metamorphosis by Franz Kafka \n",
      "A Christmas Carol in Prose\n",
      "The Yellow Wallpaper by Charlotte Perkins Gilman \n",
      "Jane Eyre\n",
      "The Strange Case of Dr\n",
      "The Scarlet Letter by Nathaniel Hawthorne \n",
      "Adventures of Huckleberry Finn by Mark Twain \n",
      "The Hound of the Baskervilles by Arthur Conan Doyle \n",
      "How to Get Rich by Anonymous \n",
      "Dracula by Bram Stoker \n",
      "Heart of Darkness by Joseph Conrad \n",
      "Grimms\n",
      "A Pickle for the Knowing Ones by Timothy Dexter \n",
      "The Wonderful Wizard of Oz by L\n",
      "The Adventures of Tom Sawyer\n",
      "Kibun Daizin\n",
      "Great Expectations by Charles Dickens \n",
      "Walden\n",
      "Le jardin des supplices by Octave Mirbeau \n",
      "A Pictorial Guide to Mesa Verde National Park by Ansel F\n",
      "Peter Pan by J\n",
      "Il Principe\n",
      "Wuthering Heights by Emily Bront\n",
      "\n",
      "Head\n",
      "War and Peace by graf Leo Tolstoy \n",
      "The Call of the Wild by Jack London \n",
      "Treasure Island by Robert Louis Stevenson \n",
      "Narrative of the Life of Frederick Douglass\n",
      "Anne of Green Gables by L\n",
      "The Awakening\n",
      "The Old Way by Stephen Marlowe \n",
      "Simple Sabotage Field Manual by United States\n",
      "The Iliad by Homer \n",
      "Ulysses by James Joyce \n",
      "Dubliners by James Joyce \n",
      "The Odyssey by Homer \n",
      "Pygmalion by Bernard Shaw \n",
      "Gawain and the Grene Knight \n",
      "Little Women by Louisa May Alcott \n",
      "Emma by Jane Austen \n",
      "Don Quixote by Miguel de Cervantes Saavedra \n",
      "The Catholic World\n",
      "A Study in Scarlet by Arthur Conan Doyle \n",
      "The Souls of Black Folk by W\n",
      "Repertory of The Comedie Humaine\n",
      "The Prophet by Kahlil Gibran \n",
      "Tractatus Logico\n",
      "The Republic by Plato \n",
      "Little Joe Otter by Thornton W\n",
      "The Count of Monte Cristo\n",
      "The Philippines a Century Hence by Jos\n",
      "Siddhartha by Hermann Hesse \n",
      "Uncle Tom\n",
      "Turner\n",
      "The Secret Garden by Frances Hodgson Burnett \n",
      "Golf Architecture\n",
      "Les Mis\n",
      "The Complete Works of William Shakespeare by William Shakespeare \n",
      "The Jungle Book by Rudyard Kipling \n",
      "The War of the Worlds by H\n",
      "A First Reader by Catherine T\n",
      "Prestuplenie i nakazanie\n",
      "The Happy Prince\n",
      "The Kama Sutra of Vatsyayana by Vatsyayana \n",
      "Oliver Twist by Charles Dickens \n",
      "Gulliver\n",
      "Beowulf\n",
      "Essays of Michel de Montaigne \n",
      "The Prince and the Pauper by Mark Twain \n",
      "Korean\n",
      "Persuasion by Jane Austen \n",
      "The Time Machine by H\n",
      "David Copperfield by Charles Dickens \n",
      "Leviathan by Thomas Hobbes \n",
      "Anna Karenina by graf Leo Tolstoy \n",
      "Beyond Good and Evil by Friedrich Wilhelm Nietzsche \n",
      "Candide by Voltaire \n",
      "Lives of the most eminent literary and scientific men of France\n",
      "The Romance of Lust\n"
     ]
    }
   ],
   "source": [
    "# Print the titles\n",
    "for l in ebook_titles:\n",
    "    print(l)"
   ]
  },
  {
   "cell_type": "markdown",
   "metadata": {},
   "source": [
    "## Activity 10: Building a movie database with an API key"
   ]
  },
  {
   "cell_type": "code",
   "execution_count": 46,
   "metadata": {},
   "outputs": [],
   "source": [
    "# Import the libraries\n",
    "import urllib.request, urllib.parse, urllib.error\n",
    "import json"
   ]
  },
  {
   "cell_type": "code",
   "execution_count": 47,
   "metadata": {},
   "outputs": [],
   "source": [
    "# Open the API Key I received\n",
    "with open('APIkeys.json') as f:\n",
    "    keys = json.load(f)\n",
    "    omdbapi = keys['OMDBapi']"
   ]
  },
  {
   "cell_type": "code",
   "execution_count": 48,
   "metadata": {},
   "outputs": [],
   "source": [
    "# Combine the API key and the URL \n",
    "serviceurl = 'http://www.omdbapi.com/?'\n",
    "apikey = '&apikey='+omdbapi"
   ]
  },
  {
   "cell_type": "code",
   "execution_count": 49,
   "metadata": {},
   "outputs": [],
   "source": [
    "# Create a function to print the movie data\n",
    "def print_json(json_data):\n",
    "    list_keys = ['Title', 'Year', 'Rated', 'Released', 'Runtime', 'Genre', 'Director', 'Writer', \n",
    "               'Actors', 'Plot', 'Language', 'Country', 'Awards', 'Ratings', \n",
    "               'Metascore', 'imdbRating', 'imdbVotes', 'imdbID']\n",
    "    print(\"-\" * 50)\n",
    "    for k in list_keys:\n",
    "        if k in list(json_data.keys()):\n",
    "            print(f\"{k}: {json_data[k]}\")\n",
    "    print(\"-\" * 50)"
   ]
  },
  {
   "cell_type": "code",
   "execution_count": null,
   "metadata": {},
   "outputs": [],
   "source": [
    "# Skip the movie poster"
   ]
  },
  {
   "cell_type": "code",
   "execution_count": 60,
   "metadata": {},
   "outputs": [],
   "source": [
    "# Create the function to search for a movie and download the movie data\n",
    "def search_movie(title):\n",
    "    try:\n",
    "        url = serviceurl + urllib.parse.urlencode({'t': str(title)}) + apikey\n",
    "        print(f'Retrieving the data of \"{title}\" now... ')\n",
    "        print(url)\n",
    "        uh = urllib.request.urlopen(url)\n",
    "        data = uh.read()\n",
    "        json_data=json.loads(data)\n",
    "        \n",
    "# Error handling        \n",
    "        if json_data['Response'] == 'True':\n",
    "            print_json(json_data)\n",
    "        else:\n",
    "            print(\"Error encountered: \",json_data['Error'])\n",
    "    \n",
    "    except urllib.error.URLError as e:\n",
    "        print(f\"ERROR: {e.reason}\")"
   ]
  },
  {
   "cell_type": "code",
   "execution_count": 61,
   "metadata": {},
   "outputs": [
    {
     "name": "stdout",
     "output_type": "stream",
     "text": [
      "Retrieving the data of \"Titanic\" now... \n",
      "http://www.omdbapi.com/?t=Titanic&apikey=4a4b2c89\n",
      "--------------------------------------------------\n",
      "Title: Titanic\n",
      "Year: 1997\n",
      "Rated: PG-13\n",
      "Released: 19 Dec 1997\n",
      "Runtime: 194 min\n",
      "Genre: Drama, Romance\n",
      "Director: James Cameron\n",
      "Writer: James Cameron\n",
      "Actors: Leonardo DiCaprio, Kate Winslet, Billy Zane, Kathy Bates\n",
      "Plot: A seventeen-year-old aristocrat falls in love with a kind but poor artist aboard the luxurious, ill-fated R.M.S. Titanic.\n",
      "Language: English, Swedish, Italian, French\n",
      "Country: USA, Mexico, Australia, Canada\n",
      "Awards: Won 11 Oscars. Another 114 wins & 83 nominations.\n",
      "Ratings: [{'Source': 'Internet Movie Database', 'Value': '7.8/10'}, {'Source': 'Rotten Tomatoes', 'Value': '89%'}, {'Source': 'Metacritic', 'Value': '75/100'}]\n",
      "Metascore: 75\n",
      "imdbRating: 7.8\n",
      "imdbVotes: 1,060,049\n",
      "imdbID: tt0120338\n",
      "--------------------------------------------------\n"
     ]
    }
   ],
   "source": [
    "# Search for the movie Titanic\n",
    "search_movie(\"Titanic\")"
   ]
  },
  {
   "cell_type": "code",
   "execution_count": 59,
   "metadata": {},
   "outputs": [
    {
     "name": "stdout",
     "output_type": "stream",
     "text": [
      "Retrieving the data of \"Raiders of the Lost Ark\" now... \n",
      "http://www.omdbapi.com/?t=Raiders+of+the+Lost+Ark&apikey=4a4b2c89\n",
      "--------------------------------------------------\n",
      "Title: Indiana Jones and the Raiders of the Lost Ark\n",
      "Year: 1981\n",
      "Rated: PG\n",
      "Released: 12 Jun 1981\n",
      "Runtime: 115 min\n",
      "Genre: Action, Adventure\n",
      "Director: Steven Spielberg\n",
      "Writer: Lawrence Kasdan (screenplay by), George Lucas (story by), Philip Kaufman (story by)\n",
      "Actors: Harrison Ford, Karen Allen, Paul Freeman, Ronald Lacey\n",
      "Plot: In 1936, archaeologist and adventurer Indiana Jones is hired by the U.S. government to find the Ark of the Covenant before Adolf Hitler's Nazis can obtain its awesome powers.\n",
      "Language: English, German, Hebrew, Spanish, Arabic, Nepali\n",
      "Country: USA\n",
      "Awards: Won 4 Oscars. Another 33 wins & 24 nominations.\n",
      "Ratings: [{'Source': 'Internet Movie Database', 'Value': '8.4/10'}, {'Source': 'Rotten Tomatoes', 'Value': '95%'}, {'Source': 'Metacritic', 'Value': '85/100'}]\n",
      "Metascore: 85\n",
      "imdbRating: 8.4\n",
      "imdbVotes: 893,321\n",
      "imdbID: tt0082971\n",
      "--------------------------------------------------\n"
     ]
    }
   ],
   "source": [
    "# I hate Titanic, so here's a search for my favorite movie. :)\n",
    "search_movie(\"Raiders of the Lost Ark\")"
   ]
  },
  {
   "cell_type": "code",
   "execution_count": 62,
   "metadata": {},
   "outputs": [
    {
     "name": "stdout",
     "output_type": "stream",
     "text": [
      "Retrieving the data of \"Random_error\" now... \n",
      "http://www.omdbapi.com/?t=Random_error&apikey=4a4b2c89\n",
      "Error encountered:  Movie not found!\n"
     ]
    }
   ],
   "source": [
    "# Check the error handling\n",
    "search_movie(\"Random_error\")"
   ]
  },
  {
   "cell_type": "markdown",
   "metadata": {},
   "source": [
    "## Twitter API Exercise"
   ]
  },
  {
   "cell_type": "code",
   "execution_count": 1,
   "metadata": {},
   "outputs": [
    {
     "ename": "ModuleNotFoundError",
     "evalue": "No module named 'twitter'",
     "output_type": "error",
     "traceback": [
      "\u001b[1;31m---------------------------------------------------------------------------\u001b[0m",
      "\u001b[1;31mModuleNotFoundError\u001b[0m                       Traceback (most recent call last)",
      "\u001b[1;32m<ipython-input-1-9d5ef5bbfb74>\u001b[0m in \u001b[0;36m<module>\u001b[1;34m\u001b[0m\n\u001b[0;32m      2\u001b[0m \u001b[1;32mimport\u001b[0m \u001b[0mnumpy\u001b[0m \u001b[1;32mas\u001b[0m \u001b[0mnp\u001b[0m\u001b[1;33m\u001b[0m\u001b[1;33m\u001b[0m\u001b[0m\n\u001b[0;32m      3\u001b[0m \u001b[1;32mimport\u001b[0m \u001b[0mpandas\u001b[0m \u001b[1;32mas\u001b[0m \u001b[0mpd\u001b[0m\u001b[1;33m\u001b[0m\u001b[1;33m\u001b[0m\u001b[0m\n\u001b[1;32m----> 4\u001b[1;33m \u001b[1;32mimport\u001b[0m \u001b[0mtwitter\u001b[0m\u001b[1;33m\u001b[0m\u001b[1;33m\u001b[0m\u001b[0m\n\u001b[0m",
      "\u001b[1;31mModuleNotFoundError\u001b[0m: No module named 'twitter'"
     ]
    }
   ],
   "source": [
    "# Import the libraries, including twitter\n",
    "# This is after I did the install\n",
    "import numpy as np\n",
    "import pandas as pd\n",
    "import twitter"
   ]
  },
  {
   "cell_type": "markdown",
   "metadata": {},
   "source": [
    "#### Keys\n",
    "- API Key: xp3ScJ421NPzYiTqSh8WkyuMz\n",
    "- API Secret Key: WswMsn7n5obOeoeVNO6Uy0p6ipVoH033vAA4LVIWk6BAFPVTuK\n",
    "- Bearer token: AAAAAAAAAAAAAAAAAAAAAL8kPwEAAAAA0PZlGhUVmmCyK9%2FOvDkvA1jX6J4%3DSpaZCRCGlGdgrJgKPrSGrSOU0L1lpB6s2T3VnrDMTZnn2xqYEB\n",
    "- Access Token: 1394777349946740736-TORy3CZM7DvXXMrjXNOi1bRtbU69Ef\n",
    "- Access Token Secret: seaiUjPqCK27F5UjvDV5gQTMXU9Jlr75RtyhSzGuj9i43"
   ]
  },
  {
   "cell_type": "code",
   "execution_count": null,
   "metadata": {},
   "outputs": [],
   "source": [
    "# I can't get it to recognize that twitter is installed, but I still wanted to do the code\n",
    "# Below is my best efforts to complete the assignment\n",
    "\n",
    "# Load my API credentials\n",
    "api = twitter.Api(consumer_key = 'xp3ScJ421NPzYiTqSh8WkyuMz',\n",
    "  consumer_secret = 'AAAAAAAAAAAAAAAAAAAAAL8kPwEAAAAA0PZlGhUVmmCyK9%2FOvDkvA1jX6J4%3DSpaZCRCGlGdgrJgKPrSGrSOU0L1lpB6s2T3VnrDMTZnn2xqYEB',\n",
    "    access_token_key = '1394777349946740736-TORy3CZM7DvXXMrjXNOi1bRtbU69Ef',\n",
    "    access_token_secret = 'seaiUjPqCK27F5UjvDV5gQTMXU9Jlr75RtyhSzGuj9i43')"
   ]
  },
  {
   "cell_type": "code",
   "execution_count": null,
   "metadata": {},
   "outputs": [],
   "source": [
    "# Search for Bellevue University since 03/01/2021\n",
    "api.GetSearch(term = 'Bellevue University', \n",
    "              since  = 2021-03-01, \n",
    "              count = 10)"
   ]
  },
  {
   "cell_type": "code",
   "execution_count": null,
   "metadata": {},
   "outputs": [],
   "source": [
    "# Since an option is to search for an interest, what are some recent paranormal tweets:\n",
    "api.GetSearch(term = 'Paranormal', \n",
    "              since  = 2021-05-01, \n",
    "              count = 10)"
   ]
  },
  {
   "cell_type": "markdown",
   "metadata": {},
   "source": [
    "Using one of the datasets provided in Weeks 7 & 8, or a dataset of your own, choose 3 of the following visualizations to complete. You must submit via PDF along with your code. You are free to use Matplotlib, Seaborn or another package if you prefer.\n",
    "- Line\n",
    "- Scatter\n",
    "- Bar\n",
    "- Histogram\n",
    "- Density Plot\n",
    "- Pie Chart"
   ]
  },
  {
   "cell_type": "code",
   "execution_count": 18,
   "metadata": {},
   "outputs": [],
   "source": [
    "# Import the libraries\n",
    "import numpy as np\n",
    "import pandas as pd\n",
    "import matplotlib.pyplot as plt"
   ]
  },
  {
   "cell_type": "code",
   "execution_count": 30,
   "metadata": {},
   "outputs": [
    {
     "name": "stdout",
     "output_type": "stream",
     "text": [
      "ORI\n",
      "Name\n",
      "YEAR\n",
      "MRD\n",
      "CLR\n",
      "State\n",
      "County\n",
      "Agency\n"
     ]
    }
   ],
   "source": [
    "# Import the file\n",
    "# This is a summary murder file, but not one I'm using for my final project\n",
    "murder = pd.read_csv(\"State and City Murder File.csv\", low_memory = False)\n",
    "\n",
    "# List of column names for reference\n",
    "for col in murder.columns:\n",
    "    print(col)\n"
   ]
  },
  {
   "cell_type": "code",
   "execution_count": 37,
   "metadata": {},
   "outputs": [
    {
     "data": {
      "image/png": "[encoded data removed]",
      "text/plain": [
       "<Figure size 432x288 with 1 Axes>"
      ]
     },
     "metadata": {
      "needs_background": "light"
     },
     "output_type": "display_data"
    }
   ],
   "source": [
    "# Line graph to show the number of murders per year\n",
    "# I'm looking for any peaks out of the norm\n",
    "plt.plot(murder['YEAR'],murder['MRD'],\n",
    "        color = 'seagreen')\n",
    "plt.title('Murders by Year',\n",
    "         color = 'seagreen',\n",
    "         fontsize = 20)\n",
    "plt.xlabel('Year',\n",
    "         color = 'seagreen',\n",
    "         fontsize = 15)\n",
    "plt.ylabel('Number of Murders',\n",
    "         color = 'seagreen',\n",
    "         fontsize = 15)\n",
    "plt.grid(True)\n",
    "plt.show()\n"
   ]
  },
  {
   "cell_type": "code",
   "execution_count": null,
   "metadata": {},
   "outputs": [],
   "source": []
  },
  {
   "cell_type": "code",
   "execution_count": 38,
   "metadata": {},
   "outputs": [
    {
     "data": {
      "image/png": "[encoded data removed]",
      "text/plain": [
       "<Figure size 432x288 with 1 Axes>"
      ]
     },
     "metadata": {
      "needs_background": "light"
     },
     "output_type": "display_data"
    }
   ],
   "source": [
    "# Scatter plot to show the number of murders and the number cleared\n",
    "# I want to know if there are any outliers\n",
    "plt.scatter(murder['MRD'],\n",
    "            murder['CLR'],\n",
    "           color = 'mediumblue')\n",
    "plt.xlabel('Murders',\n",
    "          fontsize = 15,\n",
    "          color = 'navy')\n",
    "plt.ylabel('Cleared Cases',\n",
    "          fontsize = 15,\n",
    "          color = 'navy')\n",
    "plt.title('Murders vs. Cleared Cases',\n",
    "          fontsize = 20,\n",
    "          color = 'navy')\n",
    "plt.show()\n"
   ]
  },
  {
   "cell_type": "code",
   "execution_count": 96,
   "metadata": {},
   "outputs": [
    {
     "data": {
      "image/png": "[encoded data removed]",
      "text/plain": [
       "<Figure size 432x288 with 1 Axes>"
      ]
     },
     "metadata": {
      "needs_background": "light"
     },
     "output_type": "display_data"
    }
   ],
   "source": [
    "# Histogram showing the murders by year\n",
    "# I chose a loarger density number becasue there are 55 years captured in the data\n",
    "murder.hist(column = 'YEAR',\n",
    "            #density = True, \n",
    "            bins = 55,\n",
    "           color = 'darkviolet')\n",
    "plt.show()"
   ]
  },
  {
   "cell_type": "code",
   "execution_count": null,
   "metadata": {},
   "outputs": [],
   "source": []
  },
  {
   "cell_type": "code",
   "execution_count": null,
   "metadata": {},
   "outputs": [],
   "source": []
  },
  {
   "cell_type": "code",
   "execution_count": null,
   "metadata": {},
   "outputs": [],
   "source": []
  }
 ],
 "metadata": {
  "kernelspec": {
   "display_name": "Python 3",
   "language": "python",
   "name": "python3"
  },
  "language_info": {
   "codemirror_mode": {
    "name": "ipython",
    "version": 3
   },
   "file_extension": ".py",
   "mimetype": "text/x-python",
   "name": "python",
   "nbconvert_exporter": "python",
   "pygments_lexer": "ipython3",
   "version": "3.8.5"
  }
 },
 "nbformat": 4,
 "nbformat_minor": 4
}
