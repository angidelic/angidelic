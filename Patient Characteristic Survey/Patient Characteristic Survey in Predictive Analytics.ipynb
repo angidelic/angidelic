{
 "cells": [
  {
   "cell_type": "markdown",
   "metadata": {},
   "source": [
    "### Milestone 4"
   ]
  },
  {
   "cell_type": "code",
   "execution_count": 80,
   "metadata": {},
   "outputs": [],
   "source": [
    "# Import the libraries\n",
    "import pandas as pd\n",
    "import numpy as np\n",
    "import matplotlib.pyplot as plt\n",
    "import seaborn as sns\n",
    "from sklearn.linear_model import LogisticRegression\n",
    "from sklearn.preprocessing import StandardScaler\n",
    "from sklearn.metrics import classification_report, confusion_matrix\n",
    "from sklearn.model_selection import train_test_split\n",
    "from sklearn.metrics import accuracy_score\n",
    "from sklearn.metrics import classification_report\n",
    "from sklearn.metrics import log_loss, roc_auc_score, recall_score, precision_score, average_precision_score, f1_score, classification_report, accuracy_score, plot_roc_curve, plot_precision_recall_curve, plot_confusion_matrix\n"
   ]
  },
  {
   "cell_type": "code",
   "execution_count": 46,
   "metadata": {},
   "outputs": [],
   "source": [
    "# Import the csv file \n",
    "pcs = pd.read_csv('PCS Illness csv.csv')"
   ]
  },
  {
   "cell_type": "code",
   "execution_count": 48,
   "metadata": {},
   "outputs": [
    {
     "data": {
      "text/html": [
       "<div>\n",
       "<style scoped>\n",
       "    .dataframe tbody tr th:only-of-type {\n",
       "        vertical-align: middle;\n",
       "    }\n",
       "\n",
       "    .dataframe tbody tr th {\n",
       "        vertical-align: top;\n",
       "    }\n",
       "\n",
       "    .dataframe thead th {\n",
       "        text-align: right;\n",
       "    }\n",
       "</style>\n",
       "<table border=\"1\" class=\"dataframe\">\n",
       "  <thead>\n",
       "    <tr style=\"text-align: right;\">\n",
       "      <th></th>\n",
       "      <th>Program</th>\n",
       "      <th>Sex</th>\n",
       "      <th>Orientation</th>\n",
       "      <th>Race</th>\n",
       "      <th>Veteran</th>\n",
       "      <th>Mental_Illness</th>\n",
       "      <th>TBI</th>\n",
       "      <th>SeriousIllness</th>\n",
       "      <th>Principal Diagnosis Class</th>\n",
       "      <th>Additional Diagnosis Class</th>\n",
       "    </tr>\n",
       "  </thead>\n",
       "  <tbody>\n",
       "    <tr>\n",
       "      <th>0</th>\n",
       "      <td>OUTPATIENT</td>\n",
       "      <td>FEMALE</td>\n",
       "      <td>BISEXUAL</td>\n",
       "      <td>BLACK</td>\n",
       "      <td>NO</td>\n",
       "      <td>YES</td>\n",
       "      <td>NO</td>\n",
       "      <td>NO</td>\n",
       "      <td>MENTAL ILLNESS</td>\n",
       "      <td>MENTAL ILLNESS</td>\n",
       "    </tr>\n",
       "    <tr>\n",
       "      <th>1</th>\n",
       "      <td>OUTPATIENT</td>\n",
       "      <td>FEMALE</td>\n",
       "      <td>BISEXUAL</td>\n",
       "      <td>BLACK</td>\n",
       "      <td>NO</td>\n",
       "      <td>YES</td>\n",
       "      <td>NO</td>\n",
       "      <td>NO</td>\n",
       "      <td>MENTAL ILLNESS</td>\n",
       "      <td>MENTAL ILLNESS</td>\n",
       "    </tr>\n",
       "    <tr>\n",
       "      <th>2</th>\n",
       "      <td>INPATIENT</td>\n",
       "      <td>FEMALE</td>\n",
       "      <td>LESBIAN OR GAY</td>\n",
       "      <td>BLACK</td>\n",
       "      <td>NO</td>\n",
       "      <td>YES</td>\n",
       "      <td>NO</td>\n",
       "      <td>NO</td>\n",
       "      <td>MENTAL ILLNESS</td>\n",
       "      <td>MENTAL ILLNESS</td>\n",
       "    </tr>\n",
       "    <tr>\n",
       "      <th>3</th>\n",
       "      <td>OUTPATIENT</td>\n",
       "      <td>FEMALE</td>\n",
       "      <td>LESBIAN OR GAY</td>\n",
       "      <td>BLACK</td>\n",
       "      <td>NO</td>\n",
       "      <td>YES</td>\n",
       "      <td>NO</td>\n",
       "      <td>NO</td>\n",
       "      <td>MENTAL ILLNESS</td>\n",
       "      <td>MENTAL ILLNESS</td>\n",
       "    </tr>\n",
       "    <tr>\n",
       "      <th>4</th>\n",
       "      <td>OUTPATIENT</td>\n",
       "      <td>FEMALE</td>\n",
       "      <td>LESBIAN OR GAY</td>\n",
       "      <td>BLACK</td>\n",
       "      <td>NO</td>\n",
       "      <td>YES</td>\n",
       "      <td>NO</td>\n",
       "      <td>NO</td>\n",
       "      <td>MENTAL ILLNESS</td>\n",
       "      <td>MENTAL ILLNESS</td>\n",
       "    </tr>\n",
       "  </tbody>\n",
       "</table>\n",
       "</div>"
      ],
      "text/plain": [
       "      Program     Sex     Orientation   Race Veteran Mental_Illness TBI  \\\n",
       "0  OUTPATIENT  FEMALE        BISEXUAL  BLACK      NO            YES  NO   \n",
       "1  OUTPATIENT  FEMALE        BISEXUAL  BLACK      NO            YES  NO   \n",
       "2   INPATIENT  FEMALE  LESBIAN OR GAY  BLACK      NO            YES  NO   \n",
       "3  OUTPATIENT  FEMALE  LESBIAN OR GAY  BLACK      NO            YES  NO   \n",
       "4  OUTPATIENT  FEMALE  LESBIAN OR GAY  BLACK      NO            YES  NO   \n",
       "\n",
       "  SeriousIllness Principal Diagnosis Class Additional Diagnosis Class  \n",
       "0             NO            MENTAL ILLNESS             MENTAL ILLNESS  \n",
       "1             NO            MENTAL ILLNESS             MENTAL ILLNESS  \n",
       "2             NO            MENTAL ILLNESS             MENTAL ILLNESS  \n",
       "3             NO            MENTAL ILLNESS             MENTAL ILLNESS  \n",
       "4             NO            MENTAL ILLNESS             MENTAL ILLNESS  "
      ]
     },
     "execution_count": 48,
     "metadata": {},
     "output_type": "execute_result"
    }
   ],
   "source": [
    "pcs.head()"
   ]
  },
  {
   "cell_type": "code",
   "execution_count": 50,
   "metadata": {},
   "outputs": [],
   "source": [
    "df = pcs"
   ]
  },
  {
   "cell_type": "code",
   "execution_count": 70,
   "metadata": {},
   "outputs": [
    {
     "data": {
      "text/plain": [
       "Index(['Program', 'Sex', 'Race', 'Veteran', 'Mental_Illness', 'TBI',\n",
       "       'SeriousIllness', 'Principal Diagnosis Class',\n",
       "       'Additional Diagnosis Class'],\n",
       "      dtype='object')"
      ]
     },
     "execution_count": 70,
     "metadata": {},
     "output_type": "execute_result"
    }
   ],
   "source": [
    "df.columns"
   ]
  },
  {
   "cell_type": "code",
   "execution_count": 71,
   "metadata": {},
   "outputs": [],
   "source": [
    "# update the target name\n",
    "df = df.rename(columns = {'SeriousIllness': 'target'})"
   ]
  },
  {
   "cell_type": "code",
   "execution_count": 72,
   "metadata": {},
   "outputs": [
    {
     "data": {
      "text/plain": [
       "1    57421\n",
       "2    10823\n",
       "Name: target, dtype: int64"
      ]
     },
     "execution_count": 72,
     "metadata": {},
     "output_type": "execute_result"
    }
   ],
   "source": [
    "# Check how balanced/imbalanced the data is\n",
    "df['target'].value_counts()"
   ]
  },
  {
   "cell_type": "code",
   "execution_count": 74,
   "metadata": {},
   "outputs": [
    {
     "name": "stdout",
     "output_type": "stream",
     "text": [
      "<class 'pandas.core.frame.DataFrame'>\n",
      "RangeIndex: 68244 entries, 0 to 68243\n",
      "Data columns (total 9 columns):\n",
      " #   Column                      Non-Null Count  Dtype\n",
      "---  ------                      --------------  -----\n",
      " 0   Program                     68244 non-null  int64\n",
      " 1   Sex                         68244 non-null  int64\n",
      " 2   Race                        68244 non-null  int64\n",
      " 3   Veteran                     68244 non-null  int64\n",
      " 4   Mental_Illness              68244 non-null  int64\n",
      " 5   TBI                         68244 non-null  int64\n",
      " 6   SeriousIllness              68244 non-null  int64\n",
      " 7   Principal Diagnosis Class   68244 non-null  int64\n",
      " 8   Additional Diagnosis Class  68244 non-null  int64\n",
      "dtypes: int64(9)\n",
      "memory usage: 4.7 MB\n"
     ]
    }
   ],
   "source": [
    "df.info()"
   ]
  },
  {
   "cell_type": "code",
   "execution_count": 54,
   "metadata": {},
   "outputs": [],
   "source": [
    "# Remove extra column I don't need\n",
    "df.drop(['Orientation'], axis = 1, inplace = True)"
   ]
  },
  {
   "cell_type": "code",
   "execution_count": 51,
   "metadata": {},
   "outputs": [],
   "source": [
    "# Convert to numeric values\n",
    "df['Program'] = df['Program'].replace(['EMERGENCY','INPATIENT','OUTPATIENT','RESIDENTIAL','SUPPORT'],[1,2,3,4,5])\n",
    "df['Sex'] = df['Sex'].replace(['MALE','FEMALE'],[1,2])\n",
    "df['Race'] = df['Race'].replace(['BLACK','WHITE','MULTI-RACIAL','OTHER'],[1,2,3,4])\n",
    "df['Veteran'] = df['Veteran'].replace(['YES','NO'],[1,2])\n",
    "df['Mental_Illness'] = df['Mental_Illness'].replace(['YES'],[1])\n",
    "df['SeriousIllness'] = df['SeriousIllness'].replace(['YES','NO'],[1,2])\n",
    "df['TBI'] = df['TBI'].replace(['YES','NO'],[1,2])\n",
    "df['Principal Diagnosis Class'] = df['Principal Diagnosis Class'].replace(['MENTAL ILLNESS'],[1])\n",
    "df['Additional Diagnosis Class'] = df['Additional Diagnosis Class'].replace(['MENTAL ILLNESS','UNKNOWN'],[1,2])\n"
   ]
  },
  {
   "cell_type": "code",
   "execution_count": 75,
   "metadata": {},
   "outputs": [
    {
     "data": {
      "text/html": [
       "<div>\n",
       "<style scoped>\n",
       "    .dataframe tbody tr th:only-of-type {\n",
       "        vertical-align: middle;\n",
       "    }\n",
       "\n",
       "    .dataframe tbody tr th {\n",
       "        vertical-align: top;\n",
       "    }\n",
       "\n",
       "    .dataframe thead th {\n",
       "        text-align: right;\n",
       "    }\n",
       "</style>\n",
       "<table border=\"1\" class=\"dataframe\">\n",
       "  <thead>\n",
       "    <tr style=\"text-align: right;\">\n",
       "      <th></th>\n",
       "      <th>Program</th>\n",
       "      <th>Sex</th>\n",
       "      <th>Race</th>\n",
       "      <th>Veteran</th>\n",
       "      <th>Mental_Illness</th>\n",
       "      <th>TBI</th>\n",
       "      <th>target</th>\n",
       "      <th>Principal Diagnosis Class</th>\n",
       "      <th>Additional Diagnosis Class</th>\n",
       "    </tr>\n",
       "  </thead>\n",
       "  <tbody>\n",
       "    <tr>\n",
       "      <th>0</th>\n",
       "      <td>3</td>\n",
       "      <td>2</td>\n",
       "      <td>1</td>\n",
       "      <td>2</td>\n",
       "      <td>1</td>\n",
       "      <td>2</td>\n",
       "      <td>2</td>\n",
       "      <td>1</td>\n",
       "      <td>1</td>\n",
       "    </tr>\n",
       "    <tr>\n",
       "      <th>1</th>\n",
       "      <td>3</td>\n",
       "      <td>2</td>\n",
       "      <td>1</td>\n",
       "      <td>2</td>\n",
       "      <td>1</td>\n",
       "      <td>2</td>\n",
       "      <td>2</td>\n",
       "      <td>1</td>\n",
       "      <td>1</td>\n",
       "    </tr>\n",
       "    <tr>\n",
       "      <th>2</th>\n",
       "      <td>2</td>\n",
       "      <td>2</td>\n",
       "      <td>1</td>\n",
       "      <td>2</td>\n",
       "      <td>1</td>\n",
       "      <td>2</td>\n",
       "      <td>2</td>\n",
       "      <td>1</td>\n",
       "      <td>1</td>\n",
       "    </tr>\n",
       "    <tr>\n",
       "      <th>3</th>\n",
       "      <td>3</td>\n",
       "      <td>2</td>\n",
       "      <td>1</td>\n",
       "      <td>2</td>\n",
       "      <td>1</td>\n",
       "      <td>2</td>\n",
       "      <td>2</td>\n",
       "      <td>1</td>\n",
       "      <td>1</td>\n",
       "    </tr>\n",
       "    <tr>\n",
       "      <th>4</th>\n",
       "      <td>3</td>\n",
       "      <td>2</td>\n",
       "      <td>1</td>\n",
       "      <td>2</td>\n",
       "      <td>1</td>\n",
       "      <td>2</td>\n",
       "      <td>2</td>\n",
       "      <td>1</td>\n",
       "      <td>1</td>\n",
       "    </tr>\n",
       "  </tbody>\n",
       "</table>\n",
       "</div>"
      ],
      "text/plain": [
       "   Program  Sex  Race  Veteran  Mental_Illness  TBI  target  \\\n",
       "0        3    2     1        2               1    2       2   \n",
       "1        3    2     1        2               1    2       2   \n",
       "2        2    2     1        2               1    2       2   \n",
       "3        3    2     1        2               1    2       2   \n",
       "4        3    2     1        2               1    2       2   \n",
       "\n",
       "   Principal Diagnosis Class  Additional Diagnosis Class  \n",
       "0                          1                           1  \n",
       "1                          1                           1  \n",
       "2                          1                           1  \n",
       "3                          1                           1  \n",
       "4                          1                           1  "
      ]
     },
     "execution_count": 75,
     "metadata": {},
     "output_type": "execute_result"
    }
   ],
   "source": [
    "# Check new dataframe\n",
    "df.head()"
   ]
  },
  {
   "cell_type": "code",
   "execution_count": 100,
   "metadata": {},
   "outputs": [],
   "source": [
    "random_seed = 2000\n",
    "df_train, df_test = train_test_split(df, test_size = 0.2, random_state=random_seed, stratify = df['target'])\n"
   ]
  },
  {
   "cell_type": "code",
   "execution_count": 101,
   "metadata": {},
   "outputs": [
    {
     "name": "stdout",
     "output_type": "stream",
     "text": [
      "(54595, 9)\n",
      "(13649, 9)\n",
      "\n",
      "1    0.841414\n",
      "2    0.158586\n",
      "Name: target, dtype: float64\n",
      "\n",
      "1    0.84138\n",
      "2    0.15862\n",
      "Name: target, dtype: float64\n"
     ]
    }
   ],
   "source": [
    "# Get the shape of the training and test data\n",
    "print(df_train.shape)\n",
    "print(df_test.shape)\n",
    "print()\n",
    "print(df_train['target'].value_counts(normalize = True))\n",
    "print()\n",
    "print(df_test['target'].value_counts(normalize = True))"
   ]
  },
  {
   "cell_type": "code",
   "execution_count": 102,
   "metadata": {},
   "outputs": [],
   "source": [
    "# Scle the data\n",
    "scaler = StandardScaler()\n",
    "scaler.fit(df_train)\n",
    "\n",
    "def get_features_and_target_arrays(df,scaler):\n",
    "    X_numeric_scaled = scaler.transform(df)\n",
    "    X_categorical = df.to_numpy()\n",
    "    X = np.hstack((X_categorical, X_numeric_scaled))\n",
    "    y = df['target']\n",
    "    return X, y\n",
    "\n",
    "X, y = get_features_and_target_arrays(df_train, scaler)"
   ]
  },
  {
   "cell_type": "code",
   "execution_count": 103,
   "metadata": {},
   "outputs": [
    {
     "data": {
      "text/plain": [
       "LogisticRegression(penalty='none')"
      ]
     },
     "execution_count": 103,
     "metadata": {},
     "output_type": "execute_result"
    }
   ],
   "source": [
    "# Create the class and fit the logistic regression\n",
    "clf = LogisticRegression(penalty='none') # logistic regression with no penalty term in the cost function.\n",
    "\n",
    "clf.fit(X, y)"
   ]
  },
  {
   "cell_type": "code",
   "execution_count": 117,
   "metadata": {},
   "outputs": [
    {
     "data": {
      "text/plain": [
       "<sklearn.metrics._plot.roc_curve.RocCurveDisplay at 0x7f927dc410a0>"
      ]
     },
     "execution_count": 117,
     "metadata": {},
     "output_type": "execute_result"
    },
    {
     "data": {
      "image/png": "[encoded data removed]",
      "text/plain": [
       "<Figure size 1080x720 with 1 Axes>"
      ]
     },
     "metadata": {
      "needs_background": "light"
     },
     "output_type": "display_data"
    }
   ],
   "source": [
    "# Model evaluation\n",
    "# scaled datasets\n",
    "X_test, y_test = get_features_and_target_arrays(df_test, scaler)\n",
    "plot_roc_curve(clf, X_test, y_test)"
   ]
  },
  {
   "cell_type": "code",
   "execution_count": 106,
   "metadata": {},
   "outputs": [],
   "source": [
    "\n",
    "test_prob = clf.predict_proba(X_test)[:, 1]\n",
    "test_pred = clf.predict(X_test)"
   ]
  },
  {
   "cell_type": "code",
   "execution_count": 107,
   "metadata": {},
   "outputs": [
    {
     "name": "stdout",
     "output_type": "stream",
     "text": [
      "Log loss = 0.00000\n",
      "AUC = 1.00000\n",
      "Average Precision = 0.67406\n",
      "\n",
      "Using 0.5 as threshold:\n",
      "Accuracy = 1.00000\n",
      "Precision = 1.00000\n",
      "Recall = 1.00000\n",
      "F1 score = 1.00000\n",
      "\n",
      "Classification Report\n",
      "              precision    recall  f1-score   support\n",
      "\n",
      "           1       1.00      1.00      1.00     11484\n",
      "           2       1.00      1.00      1.00      2165\n",
      "\n",
      "    accuracy                           1.00     13649\n",
      "   macro avg       1.00      1.00      1.00     13649\n",
      "weighted avg       1.00      1.00      1.00     13649\n",
      "\n"
     ]
    }
   ],
   "source": [
    "# Get the classification report\n",
    "print('Log loss = {:.5f}'.format(log_loss(y_test, test_prob)))\n",
    "print('AUC = {:.5f}'.format(roc_auc_score(y_test, test_prob)))\n",
    "print('Average Precision = {:.5f}'.format(average_precision_score(y_test, test_prob)))\n",
    "print('\\nUsing 0.5 as threshold:')\n",
    "print('Accuracy = {:.5f}'.format(accuracy_score(y_test, test_pred)))\n",
    "print('Precision = {:.5f}'.format(precision_score(y_test, test_pred)))\n",
    "print('Recall = {:.5f}'.format(recall_score(y_test, test_pred)))\n",
    "print('F1 score = {:.5f}'.format(f1_score(y_test, test_pred)))\n",
    "\n",
    "print('\\nClassification Report')\n",
    "print(classification_report(y_test, test_pred))"
   ]
  },
  {
   "cell_type": "code",
   "execution_count": 116,
   "metadata": {},
   "outputs": [
    {
     "name": "stdout",
     "output_type": "stream",
     "text": [
      "Confusion Matrix\n"
     ]
    },
    {
     "data": {
      "text/plain": [
       "<sklearn.metrics._plot.confusion_matrix.ConfusionMatrixDisplay at 0x7f927f9c0370>"
      ]
     },
     "execution_count": 116,
     "metadata": {},
     "output_type": "execute_result"
    },
    {
     "data": {
      "image/png": "[encoded data removed]",
      "text/plain": [
       "<Figure size 1080x720 with 2 Axes>"
      ]
     },
     "metadata": {
      "needs_background": "light"
     },
     "output_type": "display_data"
    }
   ],
   "source": [
    "# Create the confusion matrix\n",
    "plot_confusion_matrix(clf, X_test, y_test)"
   ]
  },
  {
   "cell_type": "code",
   "execution_count": null,
   "metadata": {},
   "outputs": [],
   "source": []
  },
  {
   "cell_type": "code",
   "execution_count": null,
   "metadata": {},
   "outputs": [],
   "source": []
  },
  {
   "cell_type": "code",
   "execution_count": null,
   "metadata": {},
   "outputs": [],
   "source": []
  },
  {
   "cell_type": "code",
   "execution_count": null,
   "metadata": {},
   "outputs": [],
   "source": []
  },
  {
   "cell_type": "code",
   "execution_count": null,
   "metadata": {},
   "outputs": [],
   "source": []
  },
  {
   "cell_type": "code",
   "execution_count": null,
   "metadata": {},
   "outputs": [],
   "source": []
  },
  {
   "cell_type": "code",
   "execution_count": null,
   "metadata": {},
   "outputs": [],
   "source": []
  },
  {
   "cell_type": "code",
   "execution_count": null,
   "metadata": {},
   "outputs": [],
   "source": []
  },
  {
   "cell_type": "code",
   "execution_count": null,
   "metadata": {},
   "outputs": [],
   "source": []
  },
  {
   "cell_type": "code",
   "execution_count": null,
   "metadata": {},
   "outputs": [],
   "source": []
  },
  {
   "cell_type": "code",
   "execution_count": null,
   "metadata": {},
   "outputs": [],
   "source": []
  },
  {
   "cell_type": "code",
   "execution_count": null,
   "metadata": {},
   "outputs": [],
   "source": []
  },
  {
   "cell_type": "code",
   "execution_count": null,
   "metadata": {},
   "outputs": [],
   "source": []
  },
  {
   "cell_type": "code",
   "execution_count": null,
   "metadata": {},
   "outputs": [],
   "source": []
  },
  {
   "cell_type": "code",
   "execution_count": null,
   "metadata": {},
   "outputs": [],
   "source": []
  },
  {
   "cell_type": "code",
   "execution_count": null,
   "metadata": {},
   "outputs": [],
   "source": []
  }
 ],
 "metadata": {
  "kernelspec": {
   "display_name": "Python 3",
   "language": "python",
   "name": "python3"
  },
  "language_info": {
   "codemirror_mode": {
    "name": "ipython",
    "version": 3
   },
   "file_extension": ".py",
   "mimetype": "text/x-python",
   "name": "python",
   "nbconvert_exporter": "python",
   "pygments_lexer": "ipython3",
   "version": "3.8.5"
  }
 },
 "nbformat": 4,
 "nbformat_minor": 4
}
